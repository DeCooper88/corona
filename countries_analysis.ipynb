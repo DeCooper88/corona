{
 "cells": [
  {
   "cell_type": "code",
   "execution_count": 1,
   "metadata": {},
   "outputs": [],
   "source": [
    "import pandas as pd\n",
    "import data_scraper as ds"
   ]
  },
  {
   "cell_type": "code",
   "execution_count": 2,
   "metadata": {},
   "outputs": [
    {
     "data": {
      "text/plain": [
       "dict_keys(['Austria', 'Belgium', 'Denmark', 'France', 'Germany', 'Italy', 'Japan', 'the_Netherlands', 'New_York_(state)', 'South_Korea', 'Spain', 'Sweden', 'the_United_Kingdom', 'the_United_States'])"
      ]
     },
     "execution_count": 2,
     "metadata": {},
     "output_type": "execute_result"
    }
   ],
   "source": [
    "all_countries = ds.wiki_shortcodes.keys()\n",
    "all_countries"
   ]
  },
  {
   "cell_type": "code",
   "execution_count": 3,
   "metadata": {},
   "outputs": [
    {
     "name": "stdout",
     "output_type": "stream",
     "text": [
      "Base dataframe created\n",
      "Data upto 2020-04-09 collected for france.\n",
      "Data upto 2020-04-10 collected for netherlands.\n",
      "Data upto 2020-04-10 collected for belgium.\n",
      "Fill missing data.\n",
      "Dataframe ready.\n"
     ]
    }
   ],
   "source": [
    "test_countries = ['France', 'the_Netherlands', 'Belgium']\n",
    "test_df = ds.get_data(test_countries)"
   ]
  },
  {
   "cell_type": "code",
   "execution_count": 4,
   "metadata": {},
   "outputs": [
    {
     "data": {
      "text/html": [
       "<div>\n",
       "<style scoped>\n",
       "    .dataframe tbody tr th:only-of-type {\n",
       "        vertical-align: middle;\n",
       "    }\n",
       "\n",
       "    .dataframe tbody tr th {\n",
       "        vertical-align: top;\n",
       "    }\n",
       "\n",
       "    .dataframe thead th {\n",
       "        text-align: right;\n",
       "    }\n",
       "</style>\n",
       "<table border=\"1\" class=\"dataframe\">\n",
       "  <thead>\n",
       "    <tr style=\"text-align: right;\">\n",
       "      <th></th>\n",
       "      <th>date</th>\n",
       "      <th>cases_fr</th>\n",
       "      <th>deaths_fr</th>\n",
       "      <th>cases_nl</th>\n",
       "      <th>deaths_nl</th>\n",
       "      <th>cases_be</th>\n",
       "      <th>deaths_be</th>\n",
       "    </tr>\n",
       "  </thead>\n",
       "  <tbody>\n",
       "    <tr>\n",
       "      <td>0</td>\n",
       "      <td>2020-01-21</td>\n",
       "      <td>0</td>\n",
       "      <td>0</td>\n",
       "      <td>0</td>\n",
       "      <td>0</td>\n",
       "      <td>0</td>\n",
       "      <td>0</td>\n",
       "    </tr>\n",
       "    <tr>\n",
       "      <td>1</td>\n",
       "      <td>2020-01-22</td>\n",
       "      <td>0</td>\n",
       "      <td>0</td>\n",
       "      <td>0</td>\n",
       "      <td>0</td>\n",
       "      <td>0</td>\n",
       "      <td>0</td>\n",
       "    </tr>\n",
       "    <tr>\n",
       "      <td>2</td>\n",
       "      <td>2020-01-23</td>\n",
       "      <td>0</td>\n",
       "      <td>0</td>\n",
       "      <td>0</td>\n",
       "      <td>0</td>\n",
       "      <td>0</td>\n",
       "      <td>0</td>\n",
       "    </tr>\n",
       "    <tr>\n",
       "      <td>3</td>\n",
       "      <td>2020-01-24</td>\n",
       "      <td>0</td>\n",
       "      <td>0</td>\n",
       "      <td>0</td>\n",
       "      <td>0</td>\n",
       "      <td>0</td>\n",
       "      <td>0</td>\n",
       "    </tr>\n",
       "    <tr>\n",
       "      <td>4</td>\n",
       "      <td>2020-01-25</td>\n",
       "      <td>0</td>\n",
       "      <td>0</td>\n",
       "      <td>0</td>\n",
       "      <td>0</td>\n",
       "      <td>0</td>\n",
       "      <td>0</td>\n",
       "    </tr>\n",
       "    <tr>\n",
       "      <td>...</td>\n",
       "      <td>...</td>\n",
       "      <td>...</td>\n",
       "      <td>...</td>\n",
       "      <td>...</td>\n",
       "      <td>...</td>\n",
       "      <td>...</td>\n",
       "      <td>...</td>\n",
       "    </tr>\n",
       "    <tr>\n",
       "      <td>75</td>\n",
       "      <td>2020-04-05</td>\n",
       "      <td>70478</td>\n",
       "      <td>8078</td>\n",
       "      <td>17851</td>\n",
       "      <td>1766</td>\n",
       "      <td>19691</td>\n",
       "      <td>1447</td>\n",
       "    </tr>\n",
       "    <tr>\n",
       "      <td>76</td>\n",
       "      <td>2020-04-06</td>\n",
       "      <td>74390</td>\n",
       "      <td>8911</td>\n",
       "      <td>18803</td>\n",
       "      <td>1867</td>\n",
       "      <td>20814</td>\n",
       "      <td>1632</td>\n",
       "    </tr>\n",
       "    <tr>\n",
       "      <td>77</td>\n",
       "      <td>2020-04-07</td>\n",
       "      <td>78167</td>\n",
       "      <td>10328</td>\n",
       "      <td>19580</td>\n",
       "      <td>2101</td>\n",
       "      <td>22194</td>\n",
       "      <td>2035</td>\n",
       "    </tr>\n",
       "    <tr>\n",
       "      <td>78</td>\n",
       "      <td>2020-04-08</td>\n",
       "      <td>82048</td>\n",
       "      <td>10869</td>\n",
       "      <td>20549</td>\n",
       "      <td>2248</td>\n",
       "      <td>23403</td>\n",
       "      <td>2240</td>\n",
       "    </tr>\n",
       "    <tr>\n",
       "      <td>79</td>\n",
       "      <td>2020-04-09</td>\n",
       "      <td>86334</td>\n",
       "      <td>12210</td>\n",
       "      <td>21762</td>\n",
       "      <td>2396</td>\n",
       "      <td>24983</td>\n",
       "      <td>2523</td>\n",
       "    </tr>\n",
       "  </tbody>\n",
       "</table>\n",
       "<p>80 rows × 7 columns</p>\n",
       "</div>"
      ],
      "text/plain": [
       "         date  cases_fr  deaths_fr  cases_nl  deaths_nl  cases_be  deaths_be\n",
       "0  2020-01-21         0          0         0          0         0          0\n",
       "1  2020-01-22         0          0         0          0         0          0\n",
       "2  2020-01-23         0          0         0          0         0          0\n",
       "3  2020-01-24         0          0         0          0         0          0\n",
       "4  2020-01-25         0          0         0          0         0          0\n",
       "..        ...       ...        ...       ...        ...       ...        ...\n",
       "75 2020-04-05     70478       8078     17851       1766     19691       1447\n",
       "76 2020-04-06     74390       8911     18803       1867     20814       1632\n",
       "77 2020-04-07     78167      10328     19580       2101     22194       2035\n",
       "78 2020-04-08     82048      10869     20549       2248     23403       2240\n",
       "79 2020-04-09     86334      12210     21762       2396     24983       2523\n",
       "\n",
       "[80 rows x 7 columns]"
      ]
     },
     "execution_count": 4,
     "metadata": {},
     "output_type": "execute_result"
    }
   ],
   "source": [
    "test_df"
   ]
  },
  {
   "cell_type": "code",
   "execution_count": 5,
   "metadata": {},
   "outputs": [
    {
     "name": "stdout",
     "output_type": "stream",
     "text": [
      "<class 'pandas.core.frame.DataFrame'>\n",
      "Int64Index: 80 entries, 0 to 79\n",
      "Data columns (total 7 columns):\n",
      "date         80 non-null datetime64[ns]\n",
      "cases_fr     80 non-null int64\n",
      "deaths_fr    80 non-null int64\n",
      "cases_nl     80 non-null int64\n",
      "deaths_nl    80 non-null int64\n",
      "cases_be     80 non-null int64\n",
      "deaths_be    80 non-null int64\n",
      "dtypes: datetime64[ns](1), int64(6)\n",
      "memory usage: 7.5 KB\n"
     ]
    }
   ],
   "source": [
    "test_df.info()"
   ]
  }
 ],
 "metadata": {
  "kernelspec": {
   "display_name": "Python 3",
   "language": "python",
   "name": "python3"
  },
  "language_info": {
   "codemirror_mode": {
    "name": "ipython",
    "version": 3
   },
   "file_extension": ".py",
   "mimetype": "text/x-python",
   "name": "python",
   "nbconvert_exporter": "python",
   "pygments_lexer": "ipython3",
   "version": "3.7.4"
  }
 },
 "nbformat": 4,
 "nbformat_minor": 2
}
